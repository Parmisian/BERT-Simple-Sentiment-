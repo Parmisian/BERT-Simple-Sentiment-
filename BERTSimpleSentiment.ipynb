{
 "cells": [
  {
   "cell_type": "code",
   "execution_count": 112,
   "id": "7ca5a322-a2f0-4597-af05-8b1b21940ae7",
   "metadata": {},
   "outputs": [],
   "source": [
    "from transformers import AutoTokenizer, AutoModelForSequenceClassification\n",
    "import torch\n",
    "import requests\n",
    "from bs4 import BeautifulSoup\n",
    "import re\n",
    "import pandas as pd\n",
    "import numpy as np"
   ]
  },
  {
   "cell_type": "code",
   "execution_count": 8,
   "id": "f9ac6e4d-8e0b-42ea-81f1-51a0f4ee3c86",
   "metadata": {},
   "outputs": [
    {
     "name": "stderr",
     "output_type": "stream",
     "text": [
      "C:\\Users\\ulas0\\anaconda3\\envs\\diffusion\\lib\\site-packages\\huggingface_hub\\file_download.py:157: UserWarning: `huggingface_hub` cache-system uses symlinks by default to efficiently store duplicated files but your machine does not support them in C:\\Users\\ulas0\\.cache\\huggingface\\hub\\models--nlptown--bert-base-multilingual-uncased-sentiment. Caching files will still work but in a degraded version that might require more space on your disk. This warning can be disabled by setting the `HF_HUB_DISABLE_SYMLINKS_WARNING` environment variable. For more details, see https://huggingface.co/docs/huggingface_hub/how-to-cache#limitations.\n",
      "To support symlinks on Windows, you either need to activate Developer Mode or to run Python as an administrator. In order to see activate developer mode, see this article: https://docs.microsoft.com/en-us/windows/apps/get-started/enable-your-device-for-development\n",
      "  warnings.warn(message)\n"
     ]
    }
   ],
   "source": [
    "tokenizer= AutoTokenizer.from_pretrained('nlptown/bert-base-multilingual-uncased-sentiment')\n",
    "\n",
    "model= AutoModelForSequenceClassification.from_pretrained('nlptown/bert-base-multilingual-uncased-sentiment')\n",
    "\n"
   ]
  },
  {
   "cell_type": "code",
   "execution_count": 34,
   "id": "2711ebf7-da91-4dd3-838a-b4097c469192",
   "metadata": {},
   "outputs": [
    {
     "data": {
      "text/plain": [
       "tensor([  101, 10104, 10819, 10208, 94663, 10112,   119,   102])"
      ]
     },
     "execution_count": 34,
     "metadata": {},
     "output_type": "execute_result"
    }
   ],
   "source": [
    "text = \"Only english.\"\n",
    "encoded_input = tokenizer.encode(text, return_tensors='pt')\n",
    "encoded_input[0]\n",
    "#tokenizer.decode(encoded_input[0][11])"
   ]
  },
  {
   "cell_type": "code",
   "execution_count": 35,
   "id": "673f6654-030b-4f99-bbbb-c7c325bfd585",
   "metadata": {},
   "outputs": [],
   "source": [
    "result=model(encoded_input)"
   ]
  },
  {
   "cell_type": "code",
   "execution_count": 36,
   "id": "b2f62403-190e-4609-82c5-108b5e2bf215",
   "metadata": {},
   "outputs": [
    {
     "data": {
      "text/plain": [
       "SequenceClassifierOutput(loss=None, logits=tensor([[-0.2015, -0.6552, -0.2172,  0.0088,  0.7561]],\n",
       "       grad_fn=<AddmmBackward0>), hidden_states=None, attentions=None)"
      ]
     },
     "execution_count": 36,
     "metadata": {},
     "output_type": "execute_result"
    }
   ],
   "source": [
    "result # the position with the highest score represents the rating given. For examplei this is a comment with rating one."
   ]
  },
  {
   "cell_type": "code",
   "execution_count": 37,
   "id": "7b0859cb-cee7-4c64-91bb-1a25fbf75de2",
   "metadata": {},
   "outputs": [],
   "source": [
    "score= int(torch.argmax(result.logits)) + 1"
   ]
  },
  {
   "cell_type": "code",
   "execution_count": 182,
   "id": "202c2415-ad10-44a3-9b35-6d83cfbfc7d4",
   "metadata": {},
   "outputs": [],
   "source": [
    "### Collect reviews from a site\n",
    "\n",
    "r = requests.get('https://www.trustpilot.com/review/www.toluna.com') #scrap any company you want from trustpilot\n",
    "soup= BeautifulSoup(r.text, 'html.parser')\n",
    "regex= re.compile('.*typography_body-l__KUYFJ typography_appearance-default__AAY17 typography_color-black__5LYEn.*') #extract the comment tags from the website\n",
    "results=soup.find_all('p', {'class':regex})\n",
    "reviews=[k.text for k in results]"
   ]
  },
  {
   "cell_type": "code",
   "execution_count": 183,
   "id": "6aa94755-baff-48ca-a1d2-1fa00ec289ef",
   "metadata": {},
   "outputs": [
    {
     "data": {
      "text/plain": [
       "[\"Toluna is consistent in providing me relevant surveys. I have been enjoying your site even i don't get to complete a survey by playing games - wheel and match games, and voting in the quick surveys. Just two things for Toluna to look into: faster redemption process (3 days would be nice) and coming up with contests. By the way, i noticed lately that there is a survey compensation of 50 ( to 70 points) for uncompleted surveys. Thank you for this added feature as well. Keep up the good work. \",\n",
       " 'Just started using it. I like that you still get points when you don’t qualify for a survey, however there seems to be a large amount of surveys I do not qualify for. In addition, the “recommended” surveys aren’t always still available. Again, I just started using and 4 surveys I tried to complete were no longer available. I have only qualified and completed 1 full survey out of the many I’ve tried.',\n",
       " 'You got four because of the numbers of e-mails I get claiming to tell me about an available survey, but when I go to the site there is no survey.  If not for that you would have got 5 stars.  The service you provide is otherwise excellent.  I am pleased to see that, following my comment about spending time answering questions only to be told you are not right for the survey, we now get a small number of points for this.  Thank you for listening.',\n",
       " 'Most of the survey invitations are genuine (unlike other companies) and while it takes a while to build up to some cash all the surveys are interesting and not overly long. Payment once you reach the limit is prompt to Paypal.',\n",
       " 'An excellent site to go onto for surveys. It would be better if the gift cards were easier to download though. Under the current system I have to write out the entire https:// address and sometimes it does not work right. For that reason, I gave it lower stars than I normally would.',\n",
       " 'The platform  has fun and relevant surveys that I enjoy and mostly learn more. Rewards are good makes me happy everytime I get that notification that I got paid. Great platform love it.. ',\n",
       " 'all in all, i generally like the toluna website. the amount of points i get for each survey is fair and reasonable and the games are fun, simple and basic. however, the amount of points required to cahsout a reward is a bit much and it could be lowered. other than that no complaints. ',\n",
       " 'Toluna suspended my account without me being aware and I was so excited about earning points. When I had inquired as to why, they said I had violated terms and conditions…which I don’t even think I did! No other explanation. I’m furious I wasted my time. I’m a mother to a 10 month old, I’m just trying to help my husband…I don’t have time to waste!',\n",
       " \"Good choice of surveys but sometimes the site won't let me get in or the survey stops working halfway through or there is not any surveys when I log on.\",\n",
       " \"Toluna is the best survey site around, they have a lot of survey's about all sort of topics which keep me interested and that makes me want to stay with them\",\n",
       " 'Too often, we start a survey that ends in “Sorry, we are looking another profile”I also found that very often the website doesn’t work. A couple of times, I had started a survey and when I was not far from the end, the page stopped working. Very disappointing and such a waste of my time.I don’t think it is worth it really, because to earn a tiny bit of money, you have to spend many many hours answering the questions. I understand that it is easy money and it shouldn’t be too “easy” but still, a bit more rewarding points would be more motivating.',\n",
       " \"it's great even i am always failed to proceed the survey i don't why you're always saying im not qualified but still im always trying. Thanks\",\n",
       " 'Enjoy doing some surveys but sometimes find they take much longer than originally stated. Rewards take a long time to earn if you don’t do loads of surveys though ',\n",
       " 'Toluna have brilliant and interesting surveys. They also have interesting games. Their rewards are instant. Payouts are also done in record time. I love Toluna!',\n",
       " \"I'm happy to know about this survey site. It's always gives survey and I can payout on time. It is consistently with the survey and pays money on time. Surveys are also good , easy to understand and short and long. \",\n",
       " 'TOLUNA IS ,I FIND OTHER SURVEY KINDS BUSINESS.BORING HONESTLY. SINCE I AM RETIRED I HAVE ALOT OF TIME TO ENJOY THIS SURVEY BUSINESS!!! ALOT OF FUN MOST OF THE TIME!!',\n",
       " 'i just got in toluna about a week ago so this company all over social media it took my attention and i started to have interest..honestly this company is trending write now.',\n",
       " 'Would be good if on completion of surveys the points were credited rather than an error page some something went wrong but it is not my fault.A good ripoff way to get answers for no reward',\n",
       " 'you are doing a good job, thank you.I have enjoy all the surveys very much overall ,however at time encounter of not receiving the reward after completed the survey is very disappointing. ',\n",
       " \"Love being part of this able to have a voice, partake forums, product trials and earn vouchers what's not to like \"]"
      ]
     },
     "execution_count": 183,
     "metadata": {},
     "output_type": "execute_result"
    }
   ],
   "source": [
    "reviews"
   ]
  },
  {
   "cell_type": "code",
   "execution_count": 184,
   "id": "ee46ecc6-c052-444d-8c5e-ac85021b50d3",
   "metadata": {},
   "outputs": [],
   "source": [
    "df= pd.DataFrame(np.array(reviews), columns=['review'])\n",
    "df=df.iloc[1:]\n",
    "df= df.iloc[::2, :]"
   ]
  },
  {
   "cell_type": "code",
   "execution_count": 185,
   "id": "b56ad126-5986-4e25-af76-fef1512cadfe",
   "metadata": {},
   "outputs": [],
   "source": [
    "def sentiment_score(review):\n",
    "    encoded_input = tokenizer.encode(review, return_tensors='pt')\n",
    "    result=model(encoded_input)\n",
    "    score= int(torch.argmax(result.logits)) + 1\n",
    "    return score\n"
   ]
  },
  {
   "cell_type": "code",
   "execution_count": 189,
   "id": "5aacf436-ffa0-4bc7-90be-f44baa370dc2",
   "metadata": {},
   "outputs": [],
   "source": [
    "df['sentiment'] = df['review'].apply(lambda x: sentiment_score(x[:1024])) #maximum 512 tokens per comment for BERT"
   ]
  },
  {
   "cell_type": "code",
   "execution_count": 190,
   "id": "1b972d47-00ae-4b44-a088-a99c5a44b32a",
   "metadata": {},
   "outputs": [
    {
     "data": {
      "text/plain": [
       "1     Just started using it. I like that you still g...\n",
       "3     Most of the survey invitations are genuine (un...\n",
       "5     The platform  has fun and relevant surveys tha...\n",
       "7     Toluna suspended my account without me being a...\n",
       "9     Toluna is the best survey site around, they ha...\n",
       "11    it's great even i am always failed to proceed ...\n",
       "13    Toluna have brilliant and interesting surveys....\n",
       "15    TOLUNA IS ,I FIND OTHER SURVEY KINDS BUSINESS....\n",
       "17    Would be good if on completion of surveys the ...\n",
       "19    Love being part of this able to have a voice, ...\n",
       "Name: review, dtype: object"
      ]
     },
     "execution_count": 190,
     "metadata": {},
     "output_type": "execute_result"
    }
   ],
   "source": [
    "df['review']"
   ]
  },
  {
   "cell_type": "code",
   "execution_count": 191,
   "id": "87b1203b-f77c-457d-b091-32324572f568",
   "metadata": {},
   "outputs": [
    {
     "data": {
      "text/html": [
       "<div>\n",
       "<style scoped>\n",
       "    .dataframe tbody tr th:only-of-type {\n",
       "        vertical-align: middle;\n",
       "    }\n",
       "\n",
       "    .dataframe tbody tr th {\n",
       "        vertical-align: top;\n",
       "    }\n",
       "\n",
       "    .dataframe thead th {\n",
       "        text-align: right;\n",
       "    }\n",
       "</style>\n",
       "<table border=\"1\" class=\"dataframe\">\n",
       "  <thead>\n",
       "    <tr style=\"text-align: right;\">\n",
       "      <th></th>\n",
       "      <th>review</th>\n",
       "      <th>sentiment</th>\n",
       "    </tr>\n",
       "  </thead>\n",
       "  <tbody>\n",
       "    <tr>\n",
       "      <th>1</th>\n",
       "      <td>Just started using it. I like that you still g...</td>\n",
       "      <td>3</td>\n",
       "    </tr>\n",
       "    <tr>\n",
       "      <th>3</th>\n",
       "      <td>Most of the survey invitations are genuine (un...</td>\n",
       "      <td>4</td>\n",
       "    </tr>\n",
       "    <tr>\n",
       "      <th>5</th>\n",
       "      <td>The platform  has fun and relevant surveys tha...</td>\n",
       "      <td>5</td>\n",
       "    </tr>\n",
       "    <tr>\n",
       "      <th>7</th>\n",
       "      <td>Toluna suspended my account without me being a...</td>\n",
       "      <td>1</td>\n",
       "    </tr>\n",
       "    <tr>\n",
       "      <th>9</th>\n",
       "      <td>Toluna is the best survey site around, they ha...</td>\n",
       "      <td>4</td>\n",
       "    </tr>\n",
       "    <tr>\n",
       "      <th>11</th>\n",
       "      <td>it's great even i am always failed to proceed ...</td>\n",
       "      <td>5</td>\n",
       "    </tr>\n",
       "    <tr>\n",
       "      <th>13</th>\n",
       "      <td>Toluna have brilliant and interesting surveys....</td>\n",
       "      <td>5</td>\n",
       "    </tr>\n",
       "    <tr>\n",
       "      <th>15</th>\n",
       "      <td>TOLUNA IS ,I FIND OTHER SURVEY KINDS BUSINESS....</td>\n",
       "      <td>2</td>\n",
       "    </tr>\n",
       "    <tr>\n",
       "      <th>17</th>\n",
       "      <td>Would be good if on completion of surveys the ...</td>\n",
       "      <td>3</td>\n",
       "    </tr>\n",
       "    <tr>\n",
       "      <th>19</th>\n",
       "      <td>Love being part of this able to have a voice, ...</td>\n",
       "      <td>5</td>\n",
       "    </tr>\n",
       "  </tbody>\n",
       "</table>\n",
       "</div>"
      ],
      "text/plain": [
       "                                               review  sentiment\n",
       "1   Just started using it. I like that you still g...          3\n",
       "3   Most of the survey invitations are genuine (un...          4\n",
       "5   The platform  has fun and relevant surveys tha...          5\n",
       "7   Toluna suspended my account without me being a...          1\n",
       "9   Toluna is the best survey site around, they ha...          4\n",
       "11  it's great even i am always failed to proceed ...          5\n",
       "13  Toluna have brilliant and interesting surveys....          5\n",
       "15  TOLUNA IS ,I FIND OTHER SURVEY KINDS BUSINESS....          2\n",
       "17  Would be good if on completion of surveys the ...          3\n",
       "19  Love being part of this able to have a voice, ...          5"
      ]
     },
     "execution_count": 191,
     "metadata": {},
     "output_type": "execute_result"
    }
   ],
   "source": [
    "df"
   ]
  },
  {
   "cell_type": "code",
   "execution_count": null,
   "id": "4b77bc13-5482-471c-a083-5997e818ad82",
   "metadata": {},
   "outputs": [],
   "source": []
  }
 ],
 "metadata": {
  "kernelspec": {
   "display_name": "Python 3 (ipykernel)",
   "language": "python",
   "name": "python3"
  },
  "language_info": {
   "codemirror_mode": {
    "name": "ipython",
    "version": 3
   },
   "file_extension": ".py",
   "mimetype": "text/x-python",
   "name": "python",
   "nbconvert_exporter": "python",
   "pygments_lexer": "ipython3",
   "version": "3.9.19"
  }
 },
 "nbformat": 4,
 "nbformat_minor": 5
}
